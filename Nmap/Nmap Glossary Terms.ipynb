{
 "cells": [
  {
   "cell_type": "markdown",
   "metadata": {},
   "source": "# Nmap Glossary Terms\n\n"
  },
  {
   "cell_type": "markdown",
   "metadata": {},
   "source": "## 1. Firewall\nA firewall is a security solution, either hardware or software-based (most commonly software), that analyses network traffic based on a set of rules or instructions to determine which data transmission or reception operations are permitted."
  },
  {
   "cell_type": "markdown",
   "metadata": {},
   "source": "## 2. IDS\nAn Intrusion Detection System (IDS) is a device or software application that monitors a network or systems for malicious activity or policy violations. Any detected malicious activity or violation is usually reported to an administrator or collected centrally via a Security Information and Event Management (SIEM) system. A SIEM system aggregates outputs from multiple sources and uses alarm-filtering techniques to differentiate malicious activity from false positives."
  },
  {
   "cell_type": "markdown",
   "metadata": {},
   "source": "## 3. Script\nA scripting language is a type of programming language designed to support scripts, which are programs written for a specific runtime environment to automate tasks that could otherwise be performed manually, one at a time, by a human operator."
  },
  {
   "cell_type": "markdown",
   "metadata": {},
   "source": "## 4. Evasion\nIn network security, evasion refers to bypassing an information security device to deliver exploits, attacks, or other malware to a target network or system without being detected. Evasion techniques are commonly used to bypass network-based intrusion detection and prevention systems (IDS/IPS) but can also be employed to circumvent firewalls and evade malware analysis. Additionally, evasions may target network security devices to crash them, rendering them ineffective against subsequent attacks."
  },
  {
   "cell_type": "markdown",
   "metadata": {},
   "source": "## 5. Spoofing\nSpoofing is a form of technological forgery aimed at deceiving a network or person into believing that the source of information is trustworthy, while in reality, it is not."
  },
  {
   "cell_type": "markdown",
   "metadata": {},
   "source": "## 6. Sniffer\nA Sniffer (also known as a Packet Analyzer or Packet Sniffer) is an application that monitors network traffic, detecting breaches, faults, and other issues within a system. It is primarily used to monitor network traffic and ports, identifying problems that can be addressed to improve system performance and security."
  },
  {
   "cell_type": "markdown",
   "metadata": {},
   "source": "## 7. Pentest\nAlso known as a \"penetration test,\" a pentest is a method for evaluating the security of a computer system or network by simulating an attack from a malicious source. The process involves analysing system activities to identify potential vulnerabilities resulting from poor configuration, hardware or software failures, operating system flaws, or inadequate countermeasures. The results of the tests, along with an assessment of their impact and often recommended solutions, are presented for remediation."
  },
  {
   "cell_type": "markdown",
   "metadata": {},
   "source": "## 8. Network Services\nThese are tools that run in the background to provide functionality for both internal and external networks. Some well-known examples of network services include Apache (HTTP server), Samba (file server), and Squid (proxy server)."
  },
  {
   "cell_type": "markdown",
   "metadata": {},
   "source": "## 9. Security Audit\nA security audit aims to assess the security of a company's information systems. Its goal is to detect flaws and vulnerabilities that could compromise data protection. By identifying any weaknesses, the company can update its processes and infrastructure to enhance the security of its information."
  },
  {
   "cell_type": "markdown",
   "metadata": {},
   "source": "## 10. Nmap\nNmap (Network Mapper) is an open-source tool for network exploration and security auditing. It is designed to quickly scan large networks, although it also works effectively on single hosts. Nmap uses raw IP packets in innovative ways to determine which hosts are available on the network, what services (application names and versions) they are offering, what operating systems (and versions) they are running, and what types of packet filters/firewalls are in use, among other characteristics. While commonly used for security audits, Nmap is also valuable for routine tasks such as network inventory, service upgrade management, and monitoring host or service uptime."
  },
  {
   "cell_type": "markdown",
   "metadata": {},
   "source": "## 11. Zenmap\nZenmap is the official graphical user interface (GUI) for the Nmap Security Scanner. It is a free and open-source application that is multi-platform (Linux, Windows, macOS, BSD, etc.) and designed to make Nmap easier for beginners to use, while still providing advanced features for experienced users. Frequently used scan configurations can be saved as profiles, allowing them to be quickly run again. A command creator tool enables interactive creation of Nmap command lines. Scan results can be saved for later viewing, and saved results can be compared to identify differences. Recent scan results are stored in a searchable database."
  },
  {
   "cell_type": "markdown",
   "metadata": {},
   "source": "## 12. NSE\nThe Nmap Scripting Engine (NSE) is a powerful, flexible, and versatile feature of Nmap that allows users to develop and share simple scripts. These scripts can be integrated with traditional Nmap scans to automate various tasks. Users can make use of pre-existing scripts, modify them, or even create custom scripts to meet their specific needs."
  },
  {
   "cell_type": "markdown",
   "metadata": {},
   "source": "## 13. Port Scan\nA port scan is the process of sending carefully crafted messages or packets to a target computer in order to gather information about it. These probes are typically associated with well-known port numbers, often those less than or equal to 1024. By carefully applying this technique, you can learn about the services a system offers to the network."
  },
  {
   "cell_type": "markdown",
   "metadata": {},
   "source": "## 14. Network Scan\nA network scan is designed to identify active hosts on a network. This type of scan helps to pinpoint systems that may be targeted for later attacks or those that require further, more detailed scanning. Examples of network scans include ping sweeps, which quickly scan a range of IP addresses to determine if there is a connected host."
  },
  {
   "cell_type": "markdown",
   "metadata": {},
   "source": "## 15. Vulnerability Scan\nA vulnerability scan is used to identify weaknesses or vulnerabilities in a target system. This type of scanning is often performed as a proactive measure to detect issues within the system before attackers can exploit them. A typical vulnerability scan will discover hosts, access points, and open ports, analyse service responses, classify threats, and generate detailed reports."
  },
  {
   "cell_type": "markdown",
   "metadata": {},
   "source": "## 16. Host Discovery\nHost discovery involves identifying hosts on a network, such as listing those that respond to TCP or ICMP requests or those with a particular port open."
  },
  {
   "cell_type": "markdown",
   "metadata": {},
   "source": "## 17. Version Detection\nVersion detection is the process of interrogating network services on remote devices to determine the application name and version number."
  },
  {
   "cell_type": "markdown",
   "metadata": {},
   "source": "## 18. OS Detection\nOS detection refers to the process of determining the operating system and hardware characteristics of network devices. This technique involves analysing network responses to various probes in order to identify the underlying operating system and version running on a target device."
  },
  {
   "cell_type": "markdown",
   "metadata": {},
   "source": "## 19. Target Specification\nIn Nmap, any part of the command-line input that isn't an option or an option argument is treated as a target host specification. The most basic example is specifying a target IP address or hostname for scanning. When a hostname is provided, it is resolved using the Domain Name System (DNS) to find the corresponding IP address to scan. If the hostname resolves to multiple IP addresses, only the first one is scanned by default. To instruct Nmap to scan all resolved addresses instead of just the first one, the `--resolve-all` option can be used."
  },
  {
   "cell_type": "markdown",
   "metadata": {},
   "source": "## 20. IP Spoofing\nIP spoofing is an attack technique that involves masking (or \"spoofing\") IP packets by using fake sender addresses. This allows the attacker to disguise their identity or mislead the target system into thinking the packets are coming from a trusted source."
  }
 ],
 "metadata": {
  "kernelspec": {
   "display_name": "Python 3",
   "language": "python",
   "name": "python3"
  },
  "language_info": {
   "codemirror_mode": {
    "name": "ipython",
    "version": 3
   },
   "file_extension": ".py",
   "mimetype": "text/x-python",
   "name": "python",
   "nbconvert_exporter": "python",
   "version": "3.8.8"
  }
 },
 "nbformat": 4,
 "nbformat_minor": 5
}
