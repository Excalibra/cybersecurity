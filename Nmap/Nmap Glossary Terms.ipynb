Firewall – A firewall is a security solution, either hardware or software-based (most commonly software), that analyses network traffic based on a set of rules or instructions to determine which data transmission or reception operations are permitted.

IDS – An Intrusion Detection System (IDS) is a device or software application that monitors a network or systems for malicious activity or policy violations. Any detected malicious activity or violation is usually reported to an administrator or collected centrally via a Security Information and Event Management (SIEM) system. A SIEM system aggregates outputs from multiple sources and uses alarm-filtering techniques to differentiate malicious activity from false positives.

Script – A scripting language is a type of programming language designed to support scripts, which are programs written for a specific runtime environment to automate tasks that could otherwise be performed manually, one at a time, by a human operator.

Evasion – In network security, evasion refers to bypassing an information security device to deliver exploits, attacks, or other malware to a target network or system without being detected. Evasion techniques are commonly used to bypass network-based intrusion detection and prevention systems (IDS/IPS) but can also be employed to circumvent firewalls and evade malware analysis. Additionally, evasions may target network security devices to crash them, rendering them ineffective against subsequent attacks.

Spoofing – Spoofing is a form of technological forgery aimed at deceiving a network or person into believing that the source of information is trustworthy, while in reality, it is not.
